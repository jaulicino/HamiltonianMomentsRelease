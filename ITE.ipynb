{
 "cells": [
  {
   "cell_type": "markdown",
   "id": "84718e7b",
   "metadata": {},
   "source": [
    "<h1> ITE </h1>\n",
    "\n",
    "This notebook contains the required codes to execute approximate imaginary time evolution on a Quantum Device (simulated or otherwise) using IBM's Qiskit API. The Hamiltonian we reference was proposed by Smith et. al. in 2019$^{[1]}$. It is related to the Heisenberg model and has interesting physical uses. We will estimate the ground state energies of our Hamiltonians (for various $J$ and $U$) by approximating the operator $e^{\\tau \\mathcal{H}}$. Our Hamiltonian is shown below,\n",
    "\n",
    "$$\\mathcal{H} = J \\sum_{<ij>} \\sigma_x^i \\sigma_x^j + \\sigma_y^i \\sigma_y^j + U \\sum_{<ij>} \\sigma_z^i \\sigma_z^j + B \\sum_i \\sigma_z$$\n",
    "\n",
    "Here, J, U and B are scalars and the $\\sigma_l^i$ is the famililar Pauli-spin operator applied to site $i$. In order to simplify the analysis we will set $B=1.0$ and vary $J,U$.  \n",
    "\n",
    "We will use the ansatz suggested in Peng 2021$^{[2]}$, expressed in big-endian.\n",
    "\n",
    "$$|\\psi \\rangle = C_z^{0,1}C_z^{1,2}C_z^{2,3}R_y^0(\\theta_0)R_y^2(\\theta_1)R_y^3(\\pi)|1100\\rangle$$\n",
    "\n",
    "<h2> References </h2>\n",
    "\n",
    "1] Adam Smith, M. Kim, Frank Pollmann, and Johannes Knolle.  Simulating quantum many-bodydynamics on a current digital quantum computer.<em>npj Quantum Information</em>, 5, 12 2019\n",
    "\n",
    "2] Bo Peng and Karol Kowalski.  Variational quantum solver employing the pds energy functional. <em>Quantum</em>, 5:473, 06 2021.\n",
    "\n"
   ]
  },
  {
   "cell_type": "markdown",
   "id": "f2659cef",
   "metadata": {},
   "source": [
    "------------------------------"
   ]
  },
  {
   "cell_type": "markdown",
   "id": "d3120dde",
   "metadata": {},
   "source": [
    "<h2> Imports </h2>"
   ]
  },
  {
   "cell_type": "code",
   "execution_count": 13,
   "id": "dbb47ad1",
   "metadata": {},
   "outputs": [],
   "source": [
    "import Hamiltonians.hamiltonians as ham\n",
    "import Hamiltonians.helper as helper\n",
    "import numpy as np\n",
    "import qiskit as qm\n",
    "\n",
    "from itertools import combinations\n",
    "from matplotlib import pyplot as plt"
   ]
  },
  {
   "cell_type": "markdown",
   "id": "26983207",
   "metadata": {},
   "source": [
    "<h2> Setting up Analytical Analysis </h2>"
   ]
  },
  {
   "cell_type": "code",
   "execution_count": 2,
   "id": "56d3920a",
   "metadata": {},
   "outputs": [],
   "source": [
    "ket0 = np.array([1.,0.],dtype=complex)\n",
    "ket1 = np.array([0.,1.],dtype=complex)\n",
    "\n",
    "\n",
    "PauliX = np.array([[0.,1.],[1.,0]], dtype=complex)\n",
    "PauliY = np.array([[0.,-1.j],[1.j,0]], dtype=complex)\n",
    "PauliZ = np.array([[1.0,0.],[0.,-1.]], dtype=complex)\n",
    "PauliI = np.eye(2, dtype=complex)\n",
    "PauliVec = [PauliX, PauliY, PauliZ]\n",
    "PauliDict = {\"Identity\": \"I\", \"PauliX\": \"X\", \"PauliY\": \"Y\", \"PauliZ\": \"Z\"}"
   ]
  },
  {
   "cell_type": "code",
   "execution_count": 3,
   "id": "bc6d5591",
   "metadata": {},
   "outputs": [],
   "source": [
    "def RY(theta):\n",
    "    '''\n",
    "        matrix representation of the RY gate in the Z computational basis\n",
    "    '''\n",
    "    matrix = np.zeros((2,2),dtype=complex)\n",
    "    matrix[0,0] = np.cos(theta/2)\n",
    "    matrix[1,1] = np.cos(theta/2)\n",
    "    matrix[0,1] = -np.sin(theta/2)\n",
    "    matrix[1,0] =  np.sin(theta/2)\n",
    "    return matrix"
   ]
  },
  {
   "cell_type": "code",
   "execution_count": 4,
   "id": "9c45fd18",
   "metadata": {},
   "outputs": [],
   "source": [
    "def preparePsiNumerical(theta):\n",
    "    '''\n",
    "        represent ansatz in the Z computational basis\n",
    "    '''\n",
    "    Initial = np.kron(ket0,np.kron(ket0,np.kron(ket0,ket0)))\n",
    "    Layer1  = np.kron(PauliX,np.kron(PauliX,np.kron(PauliI,PauliI)))\n",
    "    Layer2  = np.kron(RY(theta[0]),np.kron(PauliI,np.kron(RY(theta[1]),RY(np.pi))))\n",
    "    Layer3  = np.kron(cz(),cz())\n",
    "    Layer4  = np.kron(PauliI,np.kron(cz(),PauliI))\n",
    "    return Layer4@Layer3@Layer2@Layer1@Initial"
   ]
  },
  {
   "cell_type": "code",
   "execution_count": 5,
   "id": "1a69f2b2",
   "metadata": {},
   "outputs": [],
   "source": [
    "def hamiltonianMatrix(j,u,b=1.0,n=4):\n",
    "    '''\n",
    "        represent our Hamiltonian as a matrix\n",
    "    '''\n",
    "    combos = list(combinations([int(i) for i in range(n)],2))\n",
    "    H = np.zeros((2**n, 2**n), dtype=complex)\n",
    "    for bits in combos:\n",
    "        for k in range(3):\n",
    "            A = [PauliI for i in range(n)]\n",
    "            A[bits[0]] = PauliVec[k]\n",
    "            A[bits[1]] = PauliVec[k]\n",
    "            x = j\n",
    "            if(k==2):\n",
    "                x = u\n",
    "            add = [1]\n",
    "            for qbit in range(n):\n",
    "                add = np.kron(add, A[qbit])\n",
    "            H += x*add\n",
    "            \n",
    "    for i in range(n):\n",
    "        A = [PauliI for i in range(n)]\n",
    "        A[i] = PauliZ\n",
    "        add = [1]\n",
    "        for qbit in range(n):\n",
    "                add = np.kron(add, A[qbit])\n",
    "        H += b * add\n",
    "    return H"
   ]
  },
  {
   "cell_type": "code",
   "execution_count": 6,
   "id": "169bec5e",
   "metadata": {},
   "outputs": [],
   "source": [
    "x = np.linspace(0,1,12)\n",
    "Js, Us = np.meshgrid(x,x)\n",
    "Gnd_analytical = np.zeros(Js.shape, dtype=complex)\n",
    "for i in range(len(Js)):\n",
    "    for j in range(len(Js[i])):\n",
    "        Gnd_analytical[i,j] = np.min(np.linalg.eig(hamiltonianMatrix(Js[i,j], Us[i,j]))[0])"
   ]
  },
  {
   "cell_type": "code",
   "execution_count": 10,
   "id": "672e2872",
   "metadata": {},
   "outputs": [
    {
     "data": {
      "text/plain": [
       "Text(0.5, 1.0, 'Ground state energies in a.u.')"
      ]
     },
     "execution_count": 10,
     "metadata": {},
     "output_type": "execute_result"
    },
    {
     "data": {
      "image/png": "[encoded data removed]",
      "text/plain": [
       "<Figure size 432x288 with 2 Axes>"
      ]
     },
     "metadata": {
      "needs_background": "light"
     },
     "output_type": "display_data"
    }
   ],
   "source": [
    "plt.contourf(Js, Us, Gnd_analytical.real)\n",
    "plt.colorbar()\n",
    "plt.xlabel(\"J value\")\n",
    "plt.ylabel(\"U value\")\n",
    "plt.title(\"Ground state energies in a.u.\")"
   ]
  },
  {
   "cell_type": "markdown",
   "id": "aea296a3",
   "metadata": {},
   "source": [
    "These are the numerical ground state eigenvalue for a test 4-site Hamiltonian. Now, we will try to reproduce the PES by approximating ITE.\n",
    "\n",
    "---------------------------------\n",
    "\n",
    "<h2> ITE Step 1) Set up Quantum Device and Ansatz </h2>"
   ]
  },
  {
   "cell_type": "code",
   "execution_count": 11,
   "id": "5a2a9ad9",
   "metadata": {},
   "outputs": [],
   "source": [
    "'''\n",
    "\n",
    "Use this block if you would like to run on an IBM Quantum device \n",
    "\n",
    "IBMQ.load_account() # Load account from disk\n",
    "IBMQ.providers()    # List all available providers\n",
    "\n",
    "provider = IBMQ.get_provider(hub='ibm-q')\n",
    "provider.backends()\n",
    "\n",
    "'''\n",
    "from qiskit import IBMQ, Aer\n",
    "\n",
    "backend = Aer.get_backend('qasm_simulator')\n",
    "shots = 2**13\n",
    "thetaTest = np.array([-2.0,1.0])\n",
    "\n",
    "def preparePsi(theta):\n",
    "    qc = qm.QuantumCircuit(4,4)\n",
    "    qc.x(0)\n",
    "    qc.x(1)\n",
    "    qc.ry(np.pi, 3)\n",
    "    qc.ry(theta[1],2)\n",
    "    qc.ry(theta[0],0)\n",
    "    qc.cz(2,3)\n",
    "    qc.cz(1,2)\n",
    "    qc.cz(0,1)\n",
    "    return qc"
   ]
  },
  {
   "cell_type": "markdown",
   "id": "8bffb30b",
   "metadata": {},
   "source": [
    "<h2> ITE Step 2) Collect QWC Groups and Measure Computational Basis </h2>"
   ]
  },
  {
   "cell_type": "code",
   "execution_count": 14,
   "id": "335a4c31",
   "metadata": {},
   "outputs": [],
   "source": [
    "L,C = helper.heisenberg_letters(1,1,1,4)\n",
    "Hamil = ham.Hamiltonian(L,C)\n",
    "expHamil = Hamil.exp(15)\n",
    "qwc_bases = expHamil.grouping()"
   ]
  },
  {
   "cell_type": "code",
   "execution_count": 15,
   "id": "e005778c",
   "metadata": {},
   "outputs": [],
   "source": [
    "circs = []\n",
    "for i in range(len(qwc_bases)):\n",
    "    base = qwc_bases[i]\n",
    "    qc = preparePsi(thetaTest)\n",
    "    for i in range(len(base)):\n",
    "        \n",
    "        #rotate qubits into the correct computational basis\n",
    "        if base[i] == \"X\":\n",
    "            qc.h(i)\n",
    "        elif base[i] == \"Y\":\n",
    "            qc.rx(np.pi/2,i)\n",
    "    \n",
    "        qc.measure(i,i)\n",
    "    circs += [qc]\n",
    "\n",
    "job = qm.execute(circs, shots=shots,backend=backend)\n",
    "cal_results = job.result()\n"
   ]
  },
  {
   "cell_type": "markdown",
   "id": "7157079c",
   "metadata": {},
   "source": [
    "<h2> ITE Step 3) Calculate the expectation values of available Pauli observables </h2>"
   ]
  },
  {
   "cell_type": "code",
   "execution_count": 16,
   "id": "7f030eba",
   "metadata": {},
   "outputs": [],
   "source": [
    "from itertools import product\n",
    "\n",
    "def stringToBasisState(string):\n",
    "    '''\n",
    "        Convert a Pauli Word to an array of its eigenvalues\n",
    "    \n",
    "    '''\n",
    "    ket0 = np.array([1.,0.])\n",
    "    ket1 = np.array([0., 1.])\n",
    "    if(len(string)>2):\n",
    "        if(string[0]==\"1\"):\n",
    "            return np.kron(ket1, stringToBasisState(string[1:]))\n",
    "        else:\n",
    "            return np.kron(ket0, stringToBasisState(string[1:]))\n",
    "    else:\n",
    "        A = [ket0, ket0]\n",
    "        if(string[0] == \"1\"):\n",
    "            A[0] = ket1\n",
    "        if(string[1] == \"1\"):\n",
    "            A[1] = ket1\n",
    "        return np.kron(A[0], A[1])\n",
    "    \n",
    "def expectationFromGroupMeasurment(measurement, obs):\n",
    "    \n",
    "    '''\n",
    "        Convert a computational basis measurement to the expectation value of an observable\n",
    "    \n",
    "    ''' \n",
    "    pauliEigen = np.array([1.,-1.])\n",
    "    identityEigen = np.array([1.,1.])\n",
    "    eigen = [pauliEigen]*4\n",
    "    for i in range(len(eigen)):\n",
    "        if(obs[i]==\"I\"):\n",
    "            eigen[i] = identityEigen\n",
    "    eigen = np.kron(np.kron(np.kron(eigen[0], eigen[1]),eigen[2]), eigen[3])\n",
    "    return measurement @ eigen\n",
    "    \n",
    "keys = qwc_bases\n",
    "dict_results = {}\n",
    "for i in range(len(cal_results.results)):\n",
    "    res = cal_results.results[i].data.counts\n",
    "    calculations = np.zeros(16)\n",
    "    for place in res:\n",
    "        st = bin(int(place,16))[2:]\n",
    "        st = str(st)\n",
    "        add = \"0\"*int(4-len(st))\n",
    "        st = add+st\n",
    "        #flip for Qiskit endian convention\n",
    "        basis = stringToBasisState(st[::-1])\n",
    "        calculations += basis * res[place]/shots\n",
    "    dict_results[keys[i]] = calculations\n",
    "\n",
    "\n",
    "expectation_values = {}\n",
    "for key in dict_results:\n",
    "    options = [\"ZI\"]*4\n",
    "    for wire in range(len(key)):\n",
    "        if(key[wire] == \"X\"):\n",
    "            options[wire]= \"XI\"\n",
    "        elif(key[wire] == \"Y\"):\n",
    "            options[wire]= \"YI\"\n",
    "    products = list(product(*options))\n",
    "    for product_ in products:\n",
    "        if not product_ in expectation_values:\n",
    "            p = \"\".join(product_)\n",
    "            expectation_values[p] = expectationFromGroupMeasurment(dict_results[key], p)"
   ]
  },
  {
   "cell_type": "markdown",
   "id": "8f20d3e1",
   "metadata": {},
   "source": [
    "<h2> ITE Step 4) Evaluate ITE using calculated expectations </h2>"
   ]
  },
  {
   "cell_type": "code",
   "execution_count": 21,
   "id": "14fe1a4e",
   "metadata": {},
   "outputs": [],
   "source": [
    "def NumerHamil(tau,J,U,B,order=13):\n",
    "    '''\n",
    "        Numerator Hamiltonian (ITE propagator)\n",
    "    \n",
    "    '''\n",
    "    L, C = helper.heisenberg_letters(J, U, B,4)\n",
    "    HA = ham.Hamiltonian(L, C)\n",
    "    P = HA.multScalar((-0.125)*tau)\n",
    "    P = P.exp(order)\n",
    "    P = P.power(8)\n",
    "    #note hermitian ---> do not need P dagger\n",
    "    C = P.multiply(HA.multiply(P))\n",
    "    return C\n",
    "\n",
    "def DenomHamil(tau,J,U,B,order=13):\n",
    "    '''\n",
    "        Used to normalize\n",
    "    \n",
    "    '''\n",
    "    L, C = helper.heisenberg_letters(J,U,B,4)\n",
    "    HA = ham.Hamiltonian(L, C)\n",
    "    P = HA.multScalar(-0.25*tau)\n",
    "    P = P.exp(order)\n",
    "    P = P.power(8)\n",
    "    return P\n",
    "\n",
    "\n",
    "def CostHamil(Hamil, energies):\n",
    "    '''\n",
    "        Calculate the energy of a Hamiltonian\n",
    "    \n",
    "    '''\n",
    "    e = 0\n",
    "    for i in range(len(Hamil.letters)):\n",
    "        e+=Hamil.coeffs[i]*energies[Hamil.letters[i][::-1]]\n",
    "    return float(e.real)\n",
    "\n",
    "def CostSys(tau, J,U,B,energies):\n",
    "    '''\n",
    "        Calculate the energy for a specific set of J, U, and B values\n",
    "        given a dictionary with Pauli expectation measurments\n",
    "        \n",
    "    '''\n",
    "    numerHamil = NumerHamil(tau,J,U,B).clean()\n",
    "    denomHamil = DenomHamil(tau,J,U,B).clean()\n",
    "    eNumer = CostHamil(numerHamil, energies)\n",
    "    eDenom = CostHamil(denomHamil, energies)\n",
    "    return (eNumer / eDenom)\n"
   ]
  },
  {
   "cell_type": "code",
   "execution_count": 22,
   "id": "49f1ad1f",
   "metadata": {},
   "outputs": [
    {
     "name": "stdout",
     "output_type": "stream",
     "text": [
      "-------------\n",
      "Round:  0  of  12\n",
      "-------------\n",
      "Round:  1  of  12\n",
      "-------------\n",
      "Round:  2  of  12\n",
      "-------------\n",
      "Round:  3  of  12\n",
      "-------------\n",
      "Round:  4  of  12\n",
      "-------------\n",
      "Round:  5  of  12\n",
      "-------------\n",
      "Round:  6  of  12\n",
      "-------------\n",
      "Round:  7  of  12\n",
      "-------------\n",
      "Round:  8  of  12\n",
      "-------------\n",
      "Round:  9  of  12\n",
      "-------------\n",
      "Round:  10  of  12\n",
      "-------------\n",
      "Round:  11  of  12\n"
     ]
    }
   ],
   "source": [
    "Gnd_QC = np.zeros(Js.shape)\n",
    "for i in range(len(Js)):\n",
    "    print(\"-------------\")\n",
    "    print(\"Round: \", i ,\" of \", len(Js))\n",
    "    for j in range(len(Js[i])):  \n",
    "        Gnd_QC[i,j] = CostSys(2.5,Js[i,j],Us[i,j],1,expectation_values)"
   ]
  },
  {
   "cell_type": "markdown",
   "id": "23ad7496",
   "metadata": {},
   "source": [
    "<h1> Compare Analytical to ITE </h1>"
   ]
  },
  {
   "cell_type": "code",
   "execution_count": 30,
   "id": "8c85cc1b",
   "metadata": {},
   "outputs": [
    {
     "name": "stdout",
     "output_type": "stream",
     "text": [
      "MSE:  0.004\n"
     ]
    }
   ],
   "source": [
    "MSE = np.mean((Gnd_QC-Gnd_analytical)**2)\n",
    "print(\"MSE: \", MSE.round(3).real)"
   ]
  },
  {
   "cell_type": "code",
   "execution_count": 23,
   "id": "5d3b6185",
   "metadata": {},
   "outputs": [
    {
     "name": "stderr",
     "output_type": "stream",
     "text": [
      "C:\\Users\\auli412\\Anaconda3\\envs\\QML_env\\lib\\site-packages\\numpy\\ma\\core.py:2825: ComplexWarning: Casting complex values to real discards the imaginary part\n",
      "  _data = np.array(data, dtype=dtype, copy=copy,\n"
     ]
    },
    {
     "data": {
      "image/png": "[encoded data removed]",
      "text/plain": [
       "<Figure size 576x576 with 4 Axes>"
      ]
     },
     "metadata": {
      "needs_background": "light"
     },
     "output_type": "display_data"
    }
   ],
   "source": [
    "fig, ax = plt.subplots(2,2,gridspec_kw={'width_ratios': [6, 1]})\n",
    "fig.set_size_inches(8,8)\n",
    "surf1 = ax[0,0].contourf(Js, Us, Gnd_analytical)\n",
    "surf2 = ax[1,0].contourf(Js, Us, Gnd_QC)\n",
    "surfs = [surf1, surf2]\n",
    "ax[0,0].set_title(\"Analytical Solution\")\n",
    "ax[1,0].set_title(\"Approximate ITE\")\n",
    "\n",
    "for i in [0,1]:\n",
    "    \n",
    "    ax[i,0].set_xlabel(\"Js\")\n",
    "    ax[i,0].set_ylabel(\"Us\")\n",
    "    cbar = fig.colorbar(surfs[i], ax[i,1])\n",
    "    cbar.set_label(\"Energy A.U.\")\n",
    "fig.tight_layout()\n"
   ]
  },
  {
   "cell_type": "markdown",
   "id": "c04a7809",
   "metadata": {},
   "source": [
    "<h1> Analyzing Other Observables (example Magnetization) </h1>"
   ]
  },
  {
   "cell_type": "markdown",
   "id": "be040ee9",
   "metadata": {},
   "source": [
    "Here we demonstrate using ITE to evaluate the expectation values of an observable $\\mathcal{O}$ on the ground state. In other words, once we estimate the ground state using imaginary time evolution we then evaluate the inner product \n",
    "$$\\langle \\psi_{ITE} | \\mathcal{O} | \\psi_{ITE} \\rangle$$\n",
    "which we hope approximates\n",
    "$$\\langle \\psi_{gnd} | \\mathcal{O} | \\psi_{gnd} \\rangle = \\langle \\mathcal{O} \\rangle$$\n",
    "\n",
    "--------\n",
    "\n",
    "In this example, we will evaluate the expectation value of the magnetization operator,\n",
    "$$\\mathcal{M} = \\sum_i {\\sigma_i}$$\n",
    "when acting on the different ground states corresponding to different $J,U$ pairs. One simply applies the ITE propagator to the ansatz and takes the inner product with $\\mathcal{M}$. For instance,\n",
    "$$\\lim_{\\tau \\rightarrow \\infty} A(\\tau) \\langle \\psi_0 | e^{-\\tau \\mathcal{H}} \\mathcal{M} e^{-\\tau \\mathcal{H}} | \\psi_0 \\rangle = \\langle \\mathcal{M} \\rangle$$\n",
    "where $A(\\tau)$ is the normalization constant defined as $$1 / \\sqrt{ \\langle \\psi_0 | e^{-2\\tau \\mathcal{H}} | \\psi_0 \\rangle }$$ Note that all the $J$ and $U$ dependence is baked into the propagator.\n"
   ]
  },
  {
   "cell_type": "code",
   "execution_count": 26,
   "id": "13708726",
   "metadata": {},
   "outputs": [],
   "source": [
    "#define the magnetization observable using the Hamiltonian class\n",
    "magObservable = ham.Hamiltonian([\"ZIII\", \"IZII\",\"IIZI\",\"IIIZ\"], [1. for i in range(4)])\n",
    "\n",
    "def expectationObservable(observable, tau,J,U,B,energies):\n",
    "    '''\n",
    "        Calculate the expectation of the magnetization for a specific set of J, U, and B values\n",
    "        given a dictionary with Pauli expectation measurments\n",
    "        \n",
    "    '''\n",
    "    L, C = helper.heisenberg_letters(J, U, B, 4)\n",
    "    HA = ham.Hamiltonian(L, C)\n",
    "    P = HA.multScalar((-0.125)*tau)\n",
    "    P = P.exp(13)\n",
    "    P = P.power(8)\n",
    "    numerHamil = P.multiply(observable.multiply(P)).condense().clean()\n",
    "    denomHamil = DenomHamil(tau,J,U,B).clean()\n",
    "    eNumer = CostHamil(numerHamil, energies)\n",
    "    eDenom = CostHamil(denomHamil, energies)\n",
    "    return (eNumer / eDenom)\n"
   ]
  },
  {
   "cell_type": "code",
   "execution_count": 27,
   "id": "29f5fd54",
   "metadata": {},
   "outputs": [
    {
     "name": "stdout",
     "output_type": "stream",
     "text": [
      "-------------\n",
      "Round:  0  of  6\n",
      "-------------\n",
      "Round:  1  of  6\n",
      "-------------\n",
      "Round:  2  of  6\n",
      "-------------\n",
      "Round:  3  of  6\n",
      "-------------\n",
      "Round:  4  of  6\n",
      "-------------\n",
      "Round:  5  of  6\n"
     ]
    }
   ],
   "source": [
    "magJs = np.linspace(0,1,6)\n",
    "magJs, magUs = np.meshgrid(magJs, magJs)\n",
    "Gnd_magnetization_QC = np.zeros(magJs.shape)\n",
    "for i in range(len(magJs)):\n",
    "    print(\"-------------\")\n",
    "    print(\"Round: \", i ,\" of \", len(magJs))\n",
    "    for j in range(len(magJs[i])):  \n",
    "        Gnd_magnetization_QC[i,j] = expectationObservable(magObservable,\n",
    "                                                                   2.5,magJs[i,j],magUs[i,j],1,expectation_values)\n",
    "        "
   ]
  },
  {
   "cell_type": "markdown",
   "id": "3e4a63ff",
   "metadata": {},
   "source": [
    "In this case we can express $e^{-\\tau \\mathcal{H}} \\mathcal{M} e^{-\\tau \\mathcal{H}}$ as a linear combination of Pauli Strings which we have already measured. For an observable $\\mathcal{O}$ where $e^{-\\tau \\mathcal{H}} \\mathcal{O} e^{-\\tau \\mathcal{H}}$ is spanned by the Pauli Strings measured during the energy calculations, we can estimate its expectation value on the ground state without additional quantum circuits. However, in general more quantum circuits may be required.\n",
    "\n",
    "---------------\n",
    "\n",
    "Finally, let's compare this to the analytical values"
   ]
  },
  {
   "cell_type": "code",
   "execution_count": 28,
   "id": "b4e5dab3",
   "metadata": {},
   "outputs": [
    {
     "name": "stdout",
     "output_type": "stream",
     "text": [
      "-------------\n",
      "Round:  0  of  50\n",
      "-------------\n",
      "Round:  5  of  50\n",
      "-------------\n",
      "Round:  10  of  50\n",
      "-------------\n",
      "Round:  15  of  50\n",
      "-------------\n",
      "Round:  20  of  50\n",
      "-------------\n",
      "Round:  25  of  50\n",
      "-------------\n",
      "Round:  30  of  50\n",
      "-------------\n",
      "Round:  35  of  50\n",
      "-------------\n",
      "Round:  40  of  50\n",
      "-------------\n",
      "Round:  45  of  50\n"
     ]
    }
   ],
   "source": [
    "#higher res for the analytical\n",
    "magJsA = np.linspace(0,1,50)\n",
    "magJsA, magUsA = np.meshgrid(magJsA, magJsA)\n",
    "Gnd_magnetization_Analytical = np.zeros(magJsA.shape)\n",
    "\n",
    "#define the magnetization observable\n",
    "mag = np.zeros((16,16), dtype=complex)\n",
    "for i in range(4):\n",
    "    A = [PauliI] * 4\n",
    "    A[i] = PauliZ\n",
    "    mag += np.kron(A[0], np.kron(A[1], np.kron(A[2], A[3])))\n",
    "\n",
    "\n",
    "for i in range(len(magJsA)):\n",
    "    if(i%5==0):\n",
    "        print(\"-------------\")\n",
    "        print(\"Round: \", i ,\" of \", len(magJsA))\n",
    "    for j in range(len(magJsA[i])): \n",
    "        #first get the numerical ground state\n",
    "        ham = hamiltonianMatrix(magJsA[i,j], magUsA[i,j])\n",
    "        eigns = np.linalg.eigh(ham)\n",
    "        min_ = np.argmin(eigns[0])\n",
    "        gnd_vector = eigns[1][:,min_]\n",
    "        Gnd_magnetization_Analytical[i,j] = (np.conjugate(gnd_vector).T @ mag @ gnd_vector).real\n",
    "        "
   ]
  },
  {
   "cell_type": "code",
   "execution_count": 29,
   "id": "5963a255",
   "metadata": {},
   "outputs": [
    {
     "data": {
      "image/png": "[encoded data removed]",
      "text/plain": [
       "<Figure size 432x576 with 4 Axes>"
      ]
     },
     "metadata": {
      "needs_background": "light"
     },
     "output_type": "display_data"
    }
   ],
   "source": [
    "fig, ax = plt.subplots(2,2,gridspec_kw={'width_ratios': [6, 1]})\n",
    "fig.set_size_inches(6,8)\n",
    "surf1 = ax[0,0].contourf(magJsA, magUsA, Gnd_magnetization_Analytical, levels = np.linspace(-4,1))\n",
    "surf2 = ax[1,0].contourf(magJs, magUs, Gnd_magnetization_QC, levels = np.linspace(-4,1,10))\n",
    "surfs = [surf1, surf2]\n",
    "ax[0,0].set_title(\"Analytical Solution\")\n",
    "ax[1,0].set_title(\"Approximated w/ ITE\")\n",
    "\n",
    "for i in [0,1]:\n",
    "    \n",
    "    ax[i,0].set_xlabel(\"Js\")\n",
    "    ax[i,0].set_ylabel(\"Us\")\n",
    "    cbar = fig.colorbar(surfs[i], ax[i,1])\n",
    "    cbar.set_label(\"expectation A.U.\")\n",
    "fig.tight_layout()"
   ]
  },
  {
   "cell_type": "code",
   "execution_count": null,
   "id": "7f971b14",
   "metadata": {},
   "outputs": [],
   "source": []
  }
 ],
 "metadata": {
  "kernelspec": {
   "display_name": "Python 3",
   "language": "python",
   "name": "python3"
  },
  "language_info": {
   "codemirror_mode": {
    "name": "ipython",
    "version": 3
   },
   "file_extension": ".py",
   "mimetype": "text/x-python",
   "name": "python",
   "nbconvert_exporter": "python",
   "pygments_lexer": "ipython3",
   "version": "3.9.5"
  }
 },
 "nbformat": 4,
 "nbformat_minor": 5
}
