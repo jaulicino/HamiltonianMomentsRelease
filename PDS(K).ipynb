{
 "cells": [
  {
   "cell_type": "code",
   "execution_count": 28,
   "id": "23384e5c",
   "metadata": {},
   "outputs": [],
   "source": [
    "import Hamiltonians.hamiltonians as ham\n",
    "import Hamiltonians.helper as helper\n",
    "import numpy as np\n",
    "from itertools import combinations\n",
    "from matplotlib import pyplot as plt"
   ]
  },
  {
   "cell_type": "markdown",
   "id": "7152a2b7",
   "metadata": {},
   "source": [
    "<h1> Numerical Approach 0) Set up $|\\psi\\rangle$ </h1>"
   ]
  },
  {
   "cell_type": "code",
   "execution_count": 29,
   "id": "77888112",
   "metadata": {},
   "outputs": [],
   "source": [
    "ket0 = np.array([1.,0.],dtype=complex)\n",
    "ket1 = np.array([0.,1.],dtype=complex)\n",
    "\n",
    "\n",
    "PauliX = np.array([[0.,1.],[1.,0]], dtype=complex)\n",
    "PauliY = np.array([[0.,-1.j],[1.j,0]], dtype=complex)\n",
    "PauliZ = np.array([[1.0,0.],[0.,-1.]], dtype=complex)\n",
    "PauliI = np.eye(2, dtype=complex)\n",
    "PauliVec = [PauliX, PauliY, PauliZ]\n",
    "cz = np.eye(4)\n",
    "cz[3,3] = -1\n",
    "PauliDict = {\"Identity\": \"I\", \"PauliX\": \"X\", \"PauliY\": \"Y\", \"PauliZ\": \"Z\"}"
   ]
  },
  {
   "cell_type": "code",
   "execution_count": 30,
   "id": "1505512b",
   "metadata": {},
   "outputs": [],
   "source": [
    "def RY(theta):\n",
    "    '''\n",
    "        matrix representation of the RY gate in the Z computational basis\n",
    "    '''\n",
    "    matrix = np.zeros((2,2),dtype=complex)\n",
    "    matrix[0,0] = np.cos(theta/2)\n",
    "    matrix[1,1] = np.cos(theta/2)\n",
    "    matrix[0,1] = -np.sin(theta/2)\n",
    "    matrix[1,0] =  np.sin(theta/2)\n",
    "    return matrix"
   ]
  },
  {
   "cell_type": "code",
   "execution_count": 31,
   "id": "574db618",
   "metadata": {},
   "outputs": [],
   "source": [
    "def psiNumerical(theta):\n",
    "    '''\n",
    "        represent ansatz in the Z computational basis\n",
    "    '''\n",
    "    Initial = np.kron(ket0,np.kron(ket0,np.kron(ket0,ket0)))\n",
    "    Layer1  = np.kron(PauliX,np.kron(PauliX,np.kron(PauliI,PauliI)))\n",
    "    Layer2  = np.kron(RY(theta[0]),np.kron(PauliI,np.kron(RY(theta[1]),RY(np.pi))))\n",
    "    Layer3  = np.kron(cz,cz)\n",
    "    Layer4  = np.kron(PauliI,np.kron(cz,PauliI))\n",
    "    return Layer4@Layer3@Layer2@Layer1@Initial"
   ]
  },
  {
   "cell_type": "markdown",
   "id": "60bb3c51",
   "metadata": {},
   "source": [
    "<h1> Numerical Approach 1) Set up Heisenberg Hamiltonian </h1>"
   ]
  },
  {
   "cell_type": "code",
   "execution_count": 32,
   "id": "6d452517",
   "metadata": {},
   "outputs": [],
   "source": [
    "def hamiltonianMatrix(j,u,b=1.0,n=4):\n",
    "    '''\n",
    "        represent our Hamiltonian as a matrix\n",
    "    '''\n",
    "    combos = list(combinations([int(i) for i in range(n)],2))\n",
    "    H = np.zeros((2**n, 2**n), dtype=complex)\n",
    "    for bits in combos:\n",
    "        for k in range(3):\n",
    "            A = [PauliI for i in range(n)]\n",
    "            A[bits[0]] = PauliVec[k]\n",
    "            A[bits[1]] = PauliVec[k]\n",
    "            x = j\n",
    "            if(k==2):\n",
    "                x = u\n",
    "            add = [1]\n",
    "            for qbit in range(n):\n",
    "                add = np.kron(add, A[qbit])\n",
    "            H += x*add\n",
    "            \n",
    "    for i in range(n):\n",
    "        A = [PauliI for i in range(n)]\n",
    "        A[i] = PauliZ\n",
    "        add = [1]\n",
    "        for qbit in range(n):\n",
    "                add = np.kron(add, A[qbit])\n",
    "        H += b * add\n",
    "    return H"
   ]
  },
  {
   "cell_type": "markdown",
   "id": "4798edb1",
   "metadata": {},
   "source": [
    "<h1> Numerical Approach 2) Set up $\\tilde M$ and $\\tilde Y$ </h1>"
   ]
  },
  {
   "cell_type": "code",
   "execution_count": 33,
   "id": "d4caaa4f",
   "metadata": {},
   "outputs": [],
   "source": [
    "def tildeM(K, psiN, hamMat):\n",
    "    M = np.zeros((K-1,K-1), dtype=complex)\n",
    "    for i in range(1,K):\n",
    "        for j in range(1,K):\n",
    "            M[i-1,j-1] = np.conjugate(psiN).T @ (np.linalg.matrix_power(hamMat, 2*K-i-j)) @ psiN\n",
    "    return M\n",
    "\n",
    "def tildeY(K, psiN, hamMat):\n",
    "    Y = np.zeros(K-1, dtype=complex)\n",
    "    for i in range(1,K):\n",
    "        Y[i-1] = np.conjugate(psiN).T @ (np.linalg.matrix_power(hamMat, 2*K-i)) @ psiN\n",
    "    return Y"
   ]
  },
  {
   "cell_type": "markdown",
   "id": "f430f047",
   "metadata": {},
   "source": [
    "<h1> Numerical Approach 3) Solve $\\tilde M \\cdot \\tilde X = -\\tilde Y$ </h1>"
   ]
  },
  {
   "cell_type": "code",
   "execution_count": 34,
   "id": "0b648caa",
   "metadata": {},
   "outputs": [
    {
     "name": "stdout",
     "output_type": "stream",
     "text": [
      "Successly found X_\n"
     ]
    }
   ],
   "source": [
    "psiN_ = psiNumerical([-2,1])\n",
    "hamMat_ = hamiltonianMatrix(1,1,1,4)\n",
    "K = 4\n",
    "M_ = tildeM(K,psiN_, hamMat_)\n",
    "Y_ = tildeY(K,psiN_, hamMat_)\n",
    "X_ = np.linalg.lstsq(M_, -Y_,rcond=None)[0]\n",
    "assert np.allclose(np.dot(M_,X_), -Y_)\n",
    "print(\"Successly found X_\")"
   ]
  },
  {
   "cell_type": "markdown",
   "id": "d657dfda",
   "metadata": {},
   "source": [
    "<h1> Numerical Approach 4) Calculate $a_is$ </h1>"
   ]
  },
  {
   "cell_type": "markdown",
   "id": "c334e4c8",
   "metadata": {},
   "source": [
    "Recall that we want to solve\n",
    "\n",
    "$$Poly(a) = 0 = a^K + \\sum_{i=1}^K \\tilde X_i a^{K-i}$$"
   ]
  },
  {
   "cell_type": "code",
   "execution_count": 35,
   "id": "f3b2b583",
   "metadata": {},
   "outputs": [],
   "source": [
    "def removeLargeImaginary(roots, threshold=1e-8):\n",
    "    real_roots = []\n",
    "    for root in roots:\n",
    "        if root.imag < threshold:\n",
    "            real_roots+=[root.real]\n",
    "    return real_roots"
   ]
  },
  {
   "cell_type": "code",
   "execution_count": 36,
   "id": "b433d4b3",
   "metadata": {},
   "outputs": [
    {
     "data": {
      "text/plain": [
       "array([  2.72434446+0.j, -34.70331045+0.j, -99.78042247+0.j])"
      ]
     },
     "execution_count": 36,
     "metadata": {},
     "output_type": "execute_result"
    }
   ],
   "source": [
    "X_"
   ]
  },
  {
   "cell_type": "code",
   "execution_count": 37,
   "id": "5fb31d04",
   "metadata": {},
   "outputs": [
    {
     "data": {
      "text/plain": [
       "array([   1.        ,    3.62390421,  -41.50639717, -146.77109015,\n",
       "        198.54973096,  587.81825535,    1.        ])"
      ]
     },
     "execution_count": 37,
     "metadata": {},
     "output_type": "execute_result"
    }
   ],
   "source": [
    "coeffs"
   ]
  },
  {
   "cell_type": "code",
   "execution_count": 38,
   "id": "1d572ba6",
   "metadata": {},
   "outputs": [],
   "source": [
    "Js = np.linspace(0, 1, 5)\n",
    "Us = np.linspace(0, 1, 5)\n",
    "Js,Us = np.meshgrid(Js, Us)\n",
    "Z = np.zeros(Js.shape)\n",
    "for i in range(len(Js)):\n",
    "    for j in range(len(Js[i])):\n",
    "        K=6\n",
    "        hamMat_ = hamiltonianMatrix(Js[i,j], Us[i,j])\n",
    "        M_ = tildeM(K,psiN_, hamMat_)\n",
    "        Y_ = tildeY(K,psiN_, hamMat_)\n",
    "        X_ = np.linalg.lstsq(M_, -Y_,rcond=None)[0]\n",
    "        coeffs = np.ones(K+1)\n",
    "        for k in range(1,K):\n",
    "            coeffs[k] = X_[k-1].real\n",
    "        ais =removeLargeImaginary(np.roots(coeffs))\n",
    "        Z[i,j] += np.min(ais)\n",
    "        "
   ]
  },
  {
   "cell_type": "code",
   "execution_count": 45,
   "id": "ddc0b4eb",
   "metadata": {},
   "outputs": [
    {
     "data": {
      "text/plain": [
       "<matplotlib.colorbar.Colorbar at 0x1ff9fc7a6d0>"
      ]
     },
     "execution_count": 45,
     "metadata": {},
     "output_type": "execute_result"
    },
    {
     "data": {
      "image/png": "[encoded data removed]",
      "text/plain": [
       "<Figure size 432x288 with 2 Axes>"
      ]
     },
     "metadata": {
      "needs_background": "light"
     },
     "output_type": "display_data"
    }
   ],
   "source": [
    "plt.contourf(Js,Us,Z)\n",
    "plt.xlabel(\"J value\")\n",
    "plt.ylabel(\"U value\")\n",
    "plt.title(\"Gnd state energy estimates using PDS in a.u.\")\n",
    "plt.colorbar()"
   ]
  },
  {
   "cell_type": "code",
   "execution_count": 40,
   "id": "4a1da0d5",
   "metadata": {},
   "outputs": [],
   "source": [
    "Ks = [int(i) for i in range (2,12)]\n",
    "minEnergies = []\n",
    "for k in Ks:\n",
    "    for i in range(len(Js)):\n",
    "        for j in range(len(Js[i])):\n",
    "            hamMat_ = hamiltonianMatrix(Js[i,j], Us[i,j])\n",
    "            M_ = tildeM(k,psiN_, hamMat_)\n",
    "            Y_ = tildeY(k,psiN_, hamMat_)\n",
    "            X_ = np.linalg.lstsq(M_, -Y_,rcond=None)[0]\n",
    "            coeffs = np.ones(k+1)\n",
    "            for l in range(1,k):\n",
    "                coeffs[l] = X_[l-1].real\n",
    "            ais =removeLargeImaginary(np.roots(coeffs))\n",
    "            Z[i,j] += np.min(ais)   \n",
    "            ais =removeLargeImaginary(np.roots(coeffs))\n",
    "    minEnergies += [np.min(ais)]"
   ]
  },
  {
   "cell_type": "code",
   "execution_count": 41,
   "id": "e4b5a45d",
   "metadata": {},
   "outputs": [
    {
     "data": {
      "text/plain": [
       "<matplotlib.legend.Legend at 0x1ff9fbb4dc0>"
      ]
     },
     "execution_count": 41,
     "metadata": {},
     "output_type": "execute_result"
    },
    {
     "data": {
      "image/png": "[encoded data removed]",
      "text/plain": [
       "<Figure size 432x288 with 1 Axes>"
      ]
     },
     "metadata": {
      "needs_background": "light"
     },
     "output_type": "display_data"
    }
   ],
   "source": [
    "plt.plot(Ks, minEnergies,label=\"PDS(K)\")\n",
    "plt.plot([Ks[0],Ks[-1]], [-6,-6],linestyle=\"dashed\",label=\"Exact ground state energy for J=U=1\")\n",
    "plt.xlabel(\"K (in PDS(K))\")\n",
    "plt.ylabel(\"Ground state energy estimate for J=U=1\")\n",
    "plt.legend()"
   ]
  },
  {
   "cell_type": "code",
   "execution_count": null,
   "id": "c91a71df",
   "metadata": {},
   "outputs": [],
   "source": []
  }
 ],
 "metadata": {
  "kernelspec": {
   "display_name": "Python 3",
   "language": "python",
   "name": "python3"
  },
  "language_info": {
   "codemirror_mode": {
    "name": "ipython",
    "version": 3
   },
   "file_extension": ".py",
   "mimetype": "text/x-python",
   "name": "python",
   "nbconvert_exporter": "python",
   "pygments_lexer": "ipython3",
   "version": "3.9.5"
  }
 },
 "nbformat": 4,
 "nbformat_minor": 5
}
